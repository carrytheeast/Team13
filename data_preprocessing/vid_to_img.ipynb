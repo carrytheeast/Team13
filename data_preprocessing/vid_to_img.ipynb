{
 "cells": [
  {
   "cell_type": "code",
   "execution_count": 3,
   "id": "803972b5",
   "metadata": {},
   "outputs": [],
   "source": [
    "import cv2\n",
    "import os"
   ]
  },
  {
   "cell_type": "code",
   "execution_count": null,
   "id": "092a8657",
   "metadata": {},
   "outputs": [],
   "source": []
  },
  {
   "cell_type": "code",
   "execution_count": 25,
   "id": "e08e6aba",
   "metadata": {},
   "outputs": [
    {
     "name": "stdout",
     "output_type": "stream",
     "text": [
      "parsing file C:/Users/jooye/OneDrive - dongguk.edu/data campus/data/vid3.mp4\n"
     ]
    }
   ],
   "source": [
    "frameRate = 1    # 1초에 1개 캡쳐\n",
    "\n",
    "filepath = \"C:/Users/jooye/OneDrive - dongguk.edu/data campus/data/vid3.mp4\"\n",
    "    #for file in os.listdir(\"C:/Users/jooye/OneDrive/바탕 화면/data/\"):\n",
    "    #    filepath = os.path.join(\"C:/Users/jooye/OneDrive/바탕 화면/data/\" , file)\n",
    "\n",
    "#file_name = 'video1'\n",
    "    \n",
    "try:\n",
    "    if not os.path.exists(filepath[:-4]):\n",
    "        os.makedirs(filepath[:-4])\n",
    "except OSError:\n",
    "    print ('Error: Creating directory. ' +  filepath[:-4])\n",
    "    \n",
    "    #os.makedirs('C:/Users/jooye/OneDrive - dongguk.edu/data campus/data/img/'+file_name, exist_ok=True)\n",
    "print('parsing file ' + filepath)\n",
    "    \n",
    "vidcap = cv2.VideoCapture(filepath)\n",
    "    \n",
    "if not vidcap.isOpened():\n",
    "    print(\"Could not Open :\", filepath)\n",
    "    exit(0)\n",
    "    \n",
    "\n",
    "save_files=[]\n",
    "def getFrame(sec):\n",
    "    vidcap.set(cv2.CAP_PROP_POS_MSEC, sec*1000)\n",
    "    image = 0\n",
    "    ret, image= vidcap.read()\n",
    "    if ret:\n",
    "        path = filepath[:-4]+'/'+str(count)+'.jpg'\n",
    "        cv2.imwrite(path, image)\n",
    "    return ret\n",
    "sec = 0\n",
    "count = 1\n",
    "success = getFrame(sec)\n",
    "while success:\n",
    "    count += 1\n",
    "    sec += frameRate\n",
    "    success = getFrame(sec)"
   ]
  },
  {
   "cell_type": "code",
   "execution_count": null,
   "id": "a2bbb25a",
   "metadata": {},
   "outputs": [],
   "source": []
  }
 ],
 "metadata": {
  "kernelspec": {
   "display_name": "Python 3 (ipykernel)",
   "language": "python",
   "name": "python3"
  },
  "language_info": {
   "codemirror_mode": {
    "name": "ipython",
    "version": 3
   },
   "file_extension": ".py",
   "mimetype": "text/x-python",
   "name": "python",
   "nbconvert_exporter": "python",
   "pygments_lexer": "ipython3",
   "version": "3.8.8"
  }
 },
 "nbformat": 4,
 "nbformat_minor": 5
}
