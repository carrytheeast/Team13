{
 "cells": [
  {
   "cell_type": "code",
   "execution_count": 1,
   "id": "b7999cf0",
   "metadata": {},
   "outputs": [],
   "source": [
    "import xml.etree.ElementTree as ET\n",
    "import glob\n",
    "import os\n",
    "import json"
   ]
  },
  {
   "cell_type": "code",
   "execution_count": 14,
   "id": "934781aa",
   "metadata": {},
   "outputs": [],
   "source": [
    "classes = []\n",
    "input_dir = \"C:\\\\Users\\\\su221\\\\1st Project\\\\sample_img\\\\airpods_1_150(146)\\\\airpods_annotations\" #변경\n",
    "output_dir = \"C:\\\\Users\\\\su221\\\\1st Project\\\\sample_img\\\\airpods_1_150(146)\\\\airpods_yolo_1_150(146)\" #새로 만들어질 txt label 파일 명 (변경)\n",
    "image_dir = \"C:\\\\Users\\\\su221\\\\1st Project\\\\sample_img\\\\airpods_1_150(146)\\\\airpods_images\" #변경"
   ]
  },
  {
   "cell_type": "code",
   "execution_count": 15,
   "id": "d4b15d82",
   "metadata": {},
   "outputs": [],
   "source": [
    "os.mkdir(output_dir) # txt label 파일 생성\n",
    "\n",
    "# yolo에 맞게 bbox설정\n",
    "def xml_to_yolo_bbox(bbox, w, h):\n",
    "    # xmin, ymin, xmax, ymax\n",
    "    x_center = ((bbox[2] + bbox[0]) / 2) / w\n",
    "    y_center = ((bbox[3] + bbox[1]) / 2) / h\n",
    "    width = (bbox[2] - bbox[0]) / w\n",
    "    height = (bbox[3] - bbox[1]) / h\n",
    "    return [x_center, y_center, width, height]"
   ]
  },
  {
   "cell_type": "code",
   "execution_count": 16,
   "id": "4248e6fe",
   "metadata": {},
   "outputs": [],
   "source": [
    "# xml 파일들 리스트로 저장\n",
    "files = glob.glob(os.path.join(input_dir, '*.xml'))\n",
    "\n",
    "# label.xml 파일들이 images 파일들과 모두 매치되는지 먼저 확인\n",
    "for fil in files:\n",
    "    basename = os.path.basename(fil)\n",
    "    filename = os.path.splitext(basename)[0]\n",
    "    if not os.path.exists(os.path.join(image_dir, f\"{filename}.jpg\")):\n",
    "        print(f\"{filename} image does not exist!\")\n",
    "        continue\n",
    "\n",
    "    result = []\n",
    "\n",
    "    tree = ET.parse(fil)\n",
    "    root = tree.getroot()\n",
    "    width = int(root.find(\"size\").find(\"width\").text)\n",
    "    height = int(root.find(\"size\").find(\"height\").text)\n",
    "\n",
    "    for obj in root.findall('object'):\n",
    "        pil_bbox = [int(x.text) for x in obj.find(\"bndbox\")]\n",
    "        yolo_bbox = xml_to_yolo_bbox(pil_bbox, width, height)\n",
    "        bbox_string = \" \".join([str(x) for x in yolo_bbox])\n",
    "        result.append(f\"{10} {bbox_string}\")   # class num변경해주기\n",
    "\n",
    "    if result:\n",
    "        with open(os.path.join(output_dir, f\"{filename}.txt\"), \"w\", encoding=\"utf-8\") as f:\n",
    "            f.write(\"\\n\".join(result))\n",
    "\n",
    "with open('classes.txt', 'w', encoding='utf8') as f:\n",
    "    f.write(json.dumps(classes))"
   ]
  },
  {
   "cell_type": "code",
   "execution_count": null,
   "id": "2103abee",
   "metadata": {},
   "outputs": [],
   "source": []
  }
 ],
 "metadata": {
  "kernelspec": {
   "display_name": "Python 3",
   "language": "python",
   "name": "python3"
  },
  "language_info": {
   "codemirror_mode": {
    "name": "ipython",
    "version": 3
   },
   "file_extension": ".py",
   "mimetype": "text/x-python",
   "name": "python",
   "nbconvert_exporter": "python",
   "pygments_lexer": "ipython3",
   "version": "3.10.5"
  }
 },
 "nbformat": 4,
 "nbformat_minor": 5
}
