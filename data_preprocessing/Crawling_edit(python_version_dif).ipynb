{
 "cells": [
  {
   "cell_type": "markdown",
   "id": "0d8d7e43",
   "metadata": {},
   "source": [
    "# Start\n",
    "1. selenium 설치\n",
    "2. webdriver_manager 설치\n",
    "3. 경로 설정 (save_path 수정)\n",
    "4. 크롤링하고 싶은 사진 개수 설정 (images[:크롤링하고 싶은 사진 개수] 수정) \n",
    "5. import블럭과 def블럭을 실행하고 crawl_images를 실행\n",
    "6. 원하는 이미지의 이름을 입력 (한글/영어)\n",
    "\n",
    "# 수정사항\n",
    "- selenium 최신버전 설치시 find_elements_by_class_name 관련 오류가 있어서 코드 수정함\n",
    "- webdriver.Chrome을 넘겨줄 때 Service를 사용하라는 warning이 발생해서 코드 수정함"
   ]
  },
  {
   "cell_type": "code",
   "execution_count": 11,
   "id": "9754658e",
   "metadata": {
    "collapsed": true
   },
   "outputs": [
    {
     "name": "stdout",
     "output_type": "stream",
     "text": [
      "Requirement already satisfied: selenium in c:\\users\\nayeo\\anaconda3\\lib\\site-packages (4.3.0)Note: you may need to restart the kernel to use updated packages.\n",
      "Requirement already satisfied: urllib3[secure,socks]~=1.26 in c:\\users\\nayeo\\anaconda3\\lib\\site-packages (from selenium) (1.26.9)\n",
      "Requirement already satisfied: trio~=0.17 in c:\\users\\nayeo\\anaconda3\\lib\\site-packages (from selenium) (0.21.0)\n",
      "Requirement already satisfied: trio-websocket~=0.9 in c:\\users\\nayeo\\anaconda3\\lib\\site-packages (from selenium) (0.9.2)\n",
      "Requirement already satisfied: idna in c:\\users\\nayeo\\anaconda3\\lib\\site-packages (from trio~=0.17->selenium) (3.3)\n",
      "Requirement already satisfied: async-generator>=1.9 in c:\\users\\nayeo\\anaconda3\\lib\\site-packages (from trio~=0.17->selenium) (1.10)\n",
      "Requirement already satisfied: cffi>=1.14 in c:\\users\\nayeo\\anaconda3\\lib\\site-packages (from trio~=0.17->selenium) (1.15.0)\n",
      "Requirement already satisfied: sortedcontainers in c:\\users\\nayeo\\anaconda3\\lib\\site-packages (from trio~=0.17->selenium) (2.4.0)\n",
      "Requirement already satisfied: attrs>=19.2.0 in c:\\users\\nayeo\\anaconda3\\lib\\site-packages (from trio~=0.17->selenium) (21.4.0)\n",
      "Requirement already satisfied: sniffio in c:\\users\\nayeo\\anaconda3\\lib\\site-packages (from trio~=0.17->selenium) (1.2.0)\n",
      "Requirement already satisfied: outcome in c:\\users\\nayeo\\anaconda3\\lib\\site-packages (from trio~=0.17->selenium) (1.2.0)\n",
      "Requirement already satisfied: pycparser in c:\\users\\nayeo\\anaconda3\\lib\\site-packages (from cffi>=1.14->trio~=0.17->selenium) (2.21)\n",
      "Requirement already satisfied: wsproto>=0.14 in c:\\users\\nayeo\\anaconda3\\lib\\site-packages (from trio-websocket~=0.9->selenium) (1.1.0)\n",
      "Requirement already satisfied: PySocks!=1.5.7,<2.0,>=1.5.6 in c:\\users\\nayeo\\anaconda3\\lib\\site-packages (from urllib3[secure,socks]~=1.26->selenium) (1.7.1)\n",
      "Requirement already satisfied: pyOpenSSL>=0.14 in c:\\users\\nayeo\\anaconda3\\lib\\site-packages (from urllib3[secure,socks]~=1.26->selenium) (21.0.0)\n",
      "Requirement already satisfied: cryptography>=1.3.4 in c:\\users\\nayeo\\anaconda3\\lib\\site-packages (from urllib3[secure,socks]~=1.26->selenium) (3.4.8)\n",
      "Requirement already satisfied: certifi in c:\\users\\nayeo\\anaconda3\\lib\\site-packages (from urllib3[secure,socks]~=1.26->selenium) (2021.10.8)\n",
      "Requirement already satisfied: six>=1.5.2 in c:\\users\\nayeo\\anaconda3\\lib\\site-packages (from pyOpenSSL>=0.14->urllib3[secure,socks]~=1.26->selenium) (1.16.0)\n",
      "Requirement already satisfied: h11<1,>=0.9.0 in c:\\users\\nayeo\\anaconda3\\lib\\site-packages (from wsproto>=0.14->trio-websocket~=0.9->selenium) (0.13.0)\n",
      "\n"
     ]
    }
   ],
   "source": [
    "pip install -U selenium"
   ]
  },
  {
   "cell_type": "code",
   "execution_count": 2,
   "id": "2145fa0e",
   "metadata": {
    "collapsed": true
   },
   "outputs": [
    {
     "name": "stdout",
     "output_type": "stream",
     "text": [
      "Collecting webdriver_managerNote: you may need to restart the kernel to use updated packages.\n",
      "  Downloading webdriver_manager-3.8.3-py2.py3-none-any.whl (26 kB)\n",
      "Collecting python-dotenv\n",
      "  Downloading python_dotenv-0.20.0-py3-none-any.whl (17 kB)\n",
      "\n",
      "Requirement already satisfied: tqdm in c:\\users\\nayeo\\anaconda3\\lib\\site-packages (from webdriver_manager) (4.64.0)\n",
      "Requirement already satisfied: requests in c:\\users\\nayeo\\anaconda3\\lib\\site-packages (from webdriver_manager) (2.27.1)\n",
      "Requirement already satisfied: charset-normalizer~=2.0.0 in c:\\users\\nayeo\\anaconda3\\lib\\site-packages (from requests->webdriver_manager) (2.0.4)\n",
      "Requirement already satisfied: idna<4,>=2.5 in c:\\users\\nayeo\\anaconda3\\lib\\site-packages (from requests->webdriver_manager) (3.3)\n",
      "Requirement already satisfied: certifi>=2017.4.17 in c:\\users\\nayeo\\anaconda3\\lib\\site-packages (from requests->webdriver_manager) (2021.10.8)\n",
      "Requirement already satisfied: urllib3<1.27,>=1.21.1 in c:\\users\\nayeo\\anaconda3\\lib\\site-packages (from requests->webdriver_manager) (1.26.9)\n",
      "Requirement already satisfied: colorama in c:\\users\\nayeo\\anaconda3\\lib\\site-packages (from tqdm->webdriver_manager) (0.4.4)\n",
      "Installing collected packages: python-dotenv, webdriver-manager\n",
      "Successfully installed python-dotenv-0.20.0 webdriver-manager-3.8.3\n"
     ]
    }
   ],
   "source": [
    "pip install -U webdriver_manager"
   ]
  },
  {
   "cell_type": "code",
   "execution_count": 20,
   "id": "803e5860",
   "metadata": {},
   "outputs": [],
   "source": [
    "from selenium import webdriver\n",
    "from urllib.parse import quote_plus\n",
    "from urllib.request import urlopen\n",
    "import os\n",
    "import time\n",
    "from webdriver_manager.chrome import ChromeDriverManager\n",
    "from selenium.webdriver.chrome.service import Service\n",
    "from selenium.webdriver.common.by import By"
   ]
  },
  {
   "cell_type": "code",
   "execution_count": 21,
   "id": "a4bda3e2",
   "metadata": {},
   "outputs": [],
   "source": [
    "def save_images(images, save_path):\n",
    "    for index, image in enumerate(images[:10]):  # images[:크롤링하고 싶은 사진 개수]\n",
    "        src = image.get_attribute('src')\n",
    "        t = urlopen(src).read()\n",
    "        file = open(os.path.join(save_path, str(index + 1) + \".jpg\"), \"wb\")\n",
    "        file.write(t)\n",
    "        print(\"img save \" + save_path + str(index + 1) + \".jpg\")\n",
    "\n",
    "def create_folder_if_not_exists(directory):\n",
    "    try:\n",
    "        if not os.path.exists(directory):\n",
    "            os.makedirs(directory)\n",
    "    except OSError:\n",
    "        print('Error: Creating directory. ' + directory)\n",
    "\n",
    "def make_url(search_term):\n",
    "    # 네이버 이미지 검색\n",
    "    base_url = 'https://search.naver.com/search.naver?where=image&section=image&query='\n",
    "    # CCL 상업적 이용 가능 옵션\n",
    "    end_url = '&res_fr=0&res_to=0&sm=tab_opt&color=&ccl=2' \\\n",
    "              '&nso=so%3Ar%2Ca%3Aall%2Cp%3Aall&recent=0&datetype=0&startdate=0&enddate=0&gif=0&optStr=&nso_open=1'\n",
    "    return base_url + quote_plus(search_term) + end_url"
   ]
  },
  {
   "cell_type": "code",
   "execution_count": 22,
   "id": "13042baa",
   "metadata": {
    "collapsed": true
   },
   "outputs": [
    {
     "name": "stdout",
     "output_type": "stream",
     "text": [
      "원하는 검색어: 에어팟\n",
      "img save C:/Users/nayeo/DataCampus/sample_images1.jpg\n",
      "img save C:/Users/nayeo/DataCampus/sample_images2.jpg\n",
      "img save C:/Users/nayeo/DataCampus/sample_images3.jpg\n",
      "img save C:/Users/nayeo/DataCampus/sample_images4.jpg\n",
      "img save C:/Users/nayeo/DataCampus/sample_images5.jpg\n",
      "img save C:/Users/nayeo/DataCampus/sample_images6.jpg\n",
      "img save C:/Users/nayeo/DataCampus/sample_images7.jpg\n",
      "img save C:/Users/nayeo/DataCampus/sample_images8.jpg\n",
      "img save C:/Users/nayeo/DataCampus/sample_images9.jpg\n",
      "img save C:/Users/nayeo/DataCampus/sample_images10.jpg\n",
      "에어팟 저장 성공\n"
     ]
    }
   ],
   "source": [
    "def crawl_images(search_term):\n",
    "    # URL 생성\n",
    "    url = make_url(search_term)\n",
    " \n",
    "    # chrome 브라우저 열기\n",
    "    # browser = webdriver.Chrome('chromedriver')\n",
    "    # browser = webdriver.Chrome(ChromeDriverManager().install())\n",
    "    browser = webdriver.Chrome(service=Service(ChromeDriverManager().install()))\n",
    "    # 브라우저를 오픈할 때 시간간격을 준다.\n",
    "    browser.implicitly_wait(3)\n",
    "    browser.get(url)\n",
    "    time.sleep(1.5)\n",
    "    browser.execute_script('window.scrollTo(0,2997)')\n",
    "    time.sleep(3)\n",
    "    \n",
    "    # 전체 스크롤 크기\n",
    "    last_height = browser.execute_script('return document.documentElement.scrollHeight')\n",
    "    # 커서 내리기\n",
    "    while 1:\n",
    "        browser.execute_script('window.scrollTo(0,document.documentElement.scrollHeight)')\n",
    "        time.sleep(3)\n",
    "        now_height =browser.execute_script('return document.documentElement.scrollHeight')\n",
    "        if now_height == last_height:\n",
    "            break\n",
    "        else:\n",
    "            last_height = now_height\n",
    "    time.sleep(3)\n",
    " \n",
    "    # 이미지 긁어오기\n",
    "    # images = browser.find_elements_by_class_name(\"_image\")\n",
    "    images = browser.find_elements(By.CLASS_NAME, \"_image\")\n",
    " \n",
    "    # 저장 경로 설정\n",
    "    save_path = \"C:/Users/nayeo/DataCampus/sample_images\"\n",
    "    create_folder_if_not_exists(save_path)\n",
    " \n",
    "    # 이미지 저장\n",
    "    save_images(images, save_path)\n",
    " \n",
    "    # 마무리\n",
    "    print(search_term + \" 저장 성공\")\n",
    "    browser.close()\n",
    " \n",
    " \n",
    "if __name__ == '__main__':\n",
    "    crawl_images(input('원하는 검색어: '))"
   ]
  }
 ],
 "metadata": {
  "kernelspec": {
   "display_name": "Python 3 (ipykernel)",
   "language": "python",
   "name": "python3"
  },
  "language_info": {
   "codemirror_mode": {
    "name": "ipython",
    "version": 3
   },
   "file_extension": ".py",
   "mimetype": "text/x-python",
   "name": "python",
   "nbconvert_exporter": "python",
   "pygments_lexer": "ipython3",
   "version": "3.9.12"
  }
 },
 "nbformat": 4,
 "nbformat_minor": 5
}
