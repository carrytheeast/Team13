{
 "cells": [
  {
   "cell_type": "code",
   "execution_count": null,
   "id": "c186b59d",
   "metadata": {},
   "outputs": [],
   "source": [
    "ls"
   ]
  },
  {
   "cell_type": "code",
   "execution_count": 13,
   "id": "0c9eea0a",
   "metadata": {},
   "outputs": [
    {
     "name": "stdout",
     "output_type": "stream",
     "text": [
      "['pen_1.jpg', 'pen_10.jpg', 'pen_100.jpg', 'pen_101.jpg', 'pen_102.jpg', 'pen_103.jpg', 'pen_104.jpg', 'pen_105.jpg', 'pen_106.jpg', 'pen_107.jpg', 'pen_108.jpg', 'pen_109.jpg', 'pen_11.jpg', 'pen_110.jpg', 'pen_111.jpg', 'pen_112.jpg', 'pen_113.jpg', 'pen_114.jpeg', 'pen_115.jpg', 'pen_116.jpg', 'pen_117.jpg', 'pen_118.jpg', 'pen_119.jpg', 'pen_12.jpg', 'pen_120.jpg', 'pen_121.jpg', 'pen_122.jpg', 'pen_123.jpg', 'pen_124.jpg', 'pen_125.jpg', 'pen_126.jpg', 'pen_127.jpg', 'pen_128.jpg', 'pen_129.jpg', 'pen_13.jpg', 'pen_130.jpg', 'pen_131.jpg', 'pen_132.jpg', 'pen_133.jpg', 'pen_134.jpg', 'pen_135.jpg', 'pen_136.png', 'pen_137.jpg', 'pen_138.jpg', 'pen_139.jpg', 'pen_14.jpg', 'pen_140.jpg', 'pen_141.jpg', 'pen_142.jpg', 'pen_143.jpg', 'pen_144.jpg', 'pen_145.jpg', 'pen_146.jpg', 'pen_147.JPG', 'pen_148.jpg', 'pen_149.jpg', 'pen_15.jpeg', 'pen_150.jpg', 'pen_151.jpg', 'pen_152.jpg', 'pen_16.jpg', 'pen_17.jpg', 'pen_18.jpg', 'pen_19.jpg', 'pen_2.jpg', 'pen_20.jpg', 'pen_21.jpg', 'pen_22.jpg', 'pen_23.jpg', 'pen_24.jpg', 'pen_25.jpg', 'pen_26.jpg', 'pen_27.jpg', 'pen_28.jpg', 'pen_29.jpg', 'pen_3.jpg', 'pen_30.jpg', 'pen_31.jpg', 'pen_32.jpg', 'pen_33.jpg', 'pen_34.jpg', 'pen_35.jpeg', 'pen_36.jpg', 'pen_37.jpg', 'pen_38.png', 'pen_39.JPG', 'pen_4.jpg', 'pen_40.jpg', 'pen_41.jpg', 'pen_42.jpg', 'pen_43.jpeg', 'pen_44.jpg', 'pen_45.jpg', 'pen_46.jpg', 'pen_47.jpg', 'pen_48.jpg', 'pen_49.jpg', 'pen_5.png', 'pen_50.jpeg', 'pen_51.jpg', 'pen_52.jpg', 'pen_53.jpg', 'pen_54.jpg', 'pen_55.jpg', 'pen_56.jpg', 'pen_57.jpg', 'pen_58.jpg', 'pen_59.jpg', 'pen_6.jpg', 'pen_60.jpg', 'pen_61.jpg', 'pen_62.jpg', 'pen_63.jpg', 'pen_64.jpg', 'pen_65.jpeg', 'pen_66.jpg', 'pen_67.jpg', 'pen_68.jpg', 'pen_69.jpg', 'pen_7.jpg', 'pen_70.jpg', 'pen_71.jpg', 'pen_72.jpg', 'pen_73.jpg', 'pen_74.jpg', 'pen_75.jpg', 'pen_76.jpg', 'pen_77.jpg', 'pen_78.jpg', 'pen_79.jpg', 'pen_8.jpg', 'pen_80.jpg', 'pen_81.jpg', 'pen_82.png', 'pen_83.jpg', 'pen_84.jpg', 'pen_85.jpg', 'pen_86.jpg', 'pen_87.jpg', 'pen_88.jpg', 'pen_89.jpg', 'pen_9.png', 'pen_90.jpg', 'pen_91.jpg', 'pen_92.jpg', 'pen_93.jpg', 'pen_94.jpg', 'pen_95.jpg', 'pen_96.jpg', 'pen_97.jpg', 'pen_98.jpg', 'pen_99.jpg']\n"
     ]
    }
   ],
   "source": [
    "import os\n",
    "import re\n",
    "\n",
    "path = 'custom_dataset/sample_imagesannotations/pen_images/' # 경로 수정\n",
    "\n",
    "n = 1\n",
    "for filename in os.listdir(path):\n",
    "    \n",
    "    # 확장자\n",
    "    ex = re.findall('\\..+', filename)[0]\n",
    "    \n",
    "    os.rename(path+filename, path+'pen_'+ str(n) + ex) # 'pen_' 부분 수정\n",
    "    n+=1\n",
    "print(os.listdir(path))"
   ]
  },
  {
   "cell_type": "code",
   "execution_count": null,
   "id": "1132db7b",
   "metadata": {},
   "outputs": [],
   "source": []
  },
  {
   "cell_type": "code",
   "execution_count": null,
   "id": "21f93f1b",
   "metadata": {},
   "outputs": [],
   "source": []
  }
 ],
 "metadata": {
  "kernelspec": {
   "display_name": "Python 3 (ipykernel)",
   "language": "python",
   "name": "python3"
  },
  "language_info": {
   "codemirror_mode": {
    "name": "ipython",
    "version": 3
   },
   "file_extension": ".py",
   "mimetype": "text/x-python",
   "name": "python",
   "nbconvert_exporter": "python",
   "pygments_lexer": "ipython3",
   "version": "3.9.12"
  }
 },
 "nbformat": 4,
 "nbformat_minor": 5
}
