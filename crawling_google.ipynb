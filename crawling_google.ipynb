{
 "cells": [
  {
   "cell_type": "code",
   "execution_count": 1,
   "id": "d32461d0",
   "metadata": {
    "scrolled": true
   },
   "outputs": [
    {
     "name": "stdout",
     "output_type": "stream",
     "text": [
      "Requirement already satisfied: selenium in c:\\users\\jooye\\anaconda3\\lib\\site-packages (4.3.0)\n",
      "Requirement already satisfied: urllib3[secure,socks]~=1.26 in c:\\users\\jooye\\anaconda3\\lib\\site-packages (from selenium) (1.26.11)\n",
      "Requirement already satisfied: trio-websocket~=0.9 in c:\\users\\jooye\\anaconda3\\lib\\site-packages (from selenium) (0.9.2)\n",
      "Requirement already satisfied: trio~=0.17 in c:\\users\\jooye\\anaconda3\\lib\\site-packages (from selenium) (0.21.0)\n",
      "Requirement already satisfied: attrs>=19.2.0 in c:\\users\\jooye\\anaconda3\\lib\\site-packages (from trio~=0.17->selenium) (21.4.0)\n",
      "Requirement already satisfied: idna in c:\\users\\jooye\\anaconda3\\lib\\site-packages (from trio~=0.17->selenium) (3.3)\n",
      "Requirement already satisfied: async-generator>=1.9 in c:\\users\\jooye\\anaconda3\\lib\\site-packages (from trio~=0.17->selenium) (1.10)\n",
      "Requirement already satisfied: cffi>=1.14 in c:\\users\\jooye\\anaconda3\\lib\\site-packages (from trio~=0.17->selenium) (1.15.0)\n",
      "Requirement already satisfied: sniffio in c:\\users\\jooye\\anaconda3\\lib\\site-packages (from trio~=0.17->selenium) (1.2.0)\n",
      "Requirement already satisfied: outcome in c:\\users\\jooye\\anaconda3\\lib\\site-packages (from trio~=0.17->selenium) (1.2.0)\n",
      "Requirement already satisfied: sortedcontainers in c:\\users\\jooye\\anaconda3\\lib\\site-packages (from trio~=0.17->selenium) (2.4.0)\n",
      "Requirement already satisfied: wsproto>=0.14 in c:\\users\\jooye\\anaconda3\\lib\\site-packages (from trio-websocket~=0.9->selenium) (1.1.0)\n",
      "Requirement already satisfied: certifi in c:\\users\\jooye\\anaconda3\\lib\\site-packages (from urllib3[secure,socks]~=1.26->selenium) (2022.6.15)\n",
      "Requirement already satisfied: pyOpenSSL>=0.14 in c:\\users\\jooye\\anaconda3\\lib\\site-packages (from urllib3[secure,socks]~=1.26->selenium) (22.0.0)\n",
      "Requirement already satisfied: cryptography>=1.3.4 in c:\\users\\jooye\\anaconda3\\lib\\site-packages (from urllib3[secure,socks]~=1.26->selenium) (37.0.1)\n",
      "Requirement already satisfied: PySocks!=1.5.7,<2.0,>=1.5.6 in c:\\users\\jooye\\anaconda3\\lib\\site-packages (from urllib3[secure,socks]~=1.26->selenium) (1.7.1)\n",
      "Requirement already satisfied: pycparser in c:\\users\\jooye\\anaconda3\\lib\\site-packages (from cffi>=1.14->trio~=0.17->selenium) (2.21)\n",
      "Requirement already satisfied: h11<1,>=0.9.0 in c:\\users\\jooye\\anaconda3\\lib\\site-packages (from wsproto>=0.14->trio-websocket~=0.9->selenium) (0.13.0)\n"
     ]
    }
   ],
   "source": [
    "#!pip install -U selenium"
   ]
  },
  {
   "cell_type": "code",
   "execution_count": 2,
   "id": "0377882b",
   "metadata": {
    "scrolled": false
   },
   "outputs": [
    {
     "name": "stdout",
     "output_type": "stream",
     "text": [
      "Requirement already satisfied: webdriver_manager in c:\\users\\jooye\\anaconda3\\lib\\site-packages (3.8.3)\n",
      "Requirement already satisfied: python-dotenv in c:\\users\\jooye\\anaconda3\\lib\\site-packages (from webdriver_manager) (0.20.0)\n",
      "Requirement already satisfied: tqdm in c:\\users\\jooye\\anaconda3\\lib\\site-packages (from webdriver_manager) (4.64.0)\n",
      "Requirement already satisfied: requests in c:\\users\\jooye\\anaconda3\\lib\\site-packages (from webdriver_manager) (2.28.1)\n",
      "Requirement already satisfied: idna<4,>=2.5 in c:\\users\\jooye\\anaconda3\\lib\\site-packages (from requests->webdriver_manager) (3.3)\n",
      "Requirement already satisfied: charset-normalizer<3,>=2 in c:\\users\\jooye\\anaconda3\\lib\\site-packages (from requests->webdriver_manager) (2.0.4)\n",
      "Requirement already satisfied: certifi>=2017.4.17 in c:\\users\\jooye\\anaconda3\\lib\\site-packages (from requests->webdriver_manager) (2022.6.15)\n",
      "Requirement already satisfied: urllib3<1.27,>=1.21.1 in c:\\users\\jooye\\anaconda3\\lib\\site-packages (from requests->webdriver_manager) (1.26.11)\n",
      "Requirement already satisfied: colorama in c:\\users\\jooye\\anaconda3\\lib\\site-packages (from tqdm->webdriver_manager) (0.4.5)\n"
     ]
    }
   ],
   "source": [
    "#!pip install -U webdriver_manager"
   ]
  },
  {
   "cell_type": "code",
   "execution_count": 1,
   "id": "92a287db",
   "metadata": {},
   "outputs": [],
   "source": [
    "from selenium import webdriver \n",
    "from selenium.webdriver.common.keys import Keys\n",
    "import time\n",
    "import os\n",
    "import urllib.request\n",
    "from multiprocessing import Pool\n",
    "import pandas as pd\n",
    "\n",
    "from selenium.webdriver.common.by import By"
   ]
  },
  {
   "cell_type": "code",
   "execution_count": null,
   "id": "bf2ca6ab",
   "metadata": {},
   "outputs": [],
   "source": [
    "def createFolder(directory):\n",
    "    try:\n",
    "        if not os.path.exists(directory):\n",
    "            os.makedirs(directory)\n",
    "    except OSError:\n",
    "        print ('Error: Creating directory. ' +  directory)\n",
    "\n",
    "\n",
    "def image_download(keyword):\n",
    "    createFolder('C:/Users/jooye/OneDrive - dongguk.edu/data campus/project/Crawling/data/'+ keyword)\n",
    "    \n",
    "    driver = webdriver.Chrome(\"C:/Users/jooye/OneDrive - dongguk.edu/data campus/project/Crawling/chromedriver/chromedriver.exe\")\n",
    "    driver.implicitly_wait(3)\n",
    "    \n",
    "    print(keyword, '검색')\n",
    "    driver.get('https://www.google.co.kr/imghp?hl=ko')\n",
    "    \n",
    "\n",
    "    Keyword=driver.find_element(By.XPATH, '//*[@id=\"sbtc\"]/div/div[2]/input')\n",
    "    Keyword.send_keys(keyword)\n",
    "    \n",
    "    driver.find_element(By.XPATH,'//*[@id=\"sbtc\"]/button').click()\n",
    "    \n",
    "    print(keyword+' 스크롤 중 .............')\n",
    "    elem =  driver.find_element(By.TAG_NAME, \"body\")\n",
    "    for i in range(60):\n",
    "        elem.send_keys(Keys.PAGE_DOWN)\n",
    "        time.sleep(0.1)\n",
    "        \n",
    "    try:\n",
    "        driver.find_element(By.XPATH,'//*[@id=\"islmp\"]/div/div/div/div[1]/div[4]/div[2]/input').click()\n",
    "        for i in range(60):\n",
    "            elem.send_keys(Keys.PAGE_DOWN)\n",
    "            time.sleep(0.1)\n",
    "    except:\n",
    "        pass\n",
    "    \n",
    "    links=[]\n",
    "    images = driver.find_elements(By.CSS_SELECTOR,\"img.rg_i.Q4LuWd\")\n",
    "    for image in images:\n",
    "        if image.get_attribute('src')!=None:\n",
    "            links.append(image.get_attribute('src'))\n",
    "    \n",
    "    print(keyword+' 찾은 이미지 개수:',len(links))\n",
    "    time.sleep(2)\n",
    "    \n",
    "    for k,i in enumerate(links):\n",
    "        url = i\n",
    "        start = time.time()\n",
    "        urllib.request.urlretrieve(url, 'C:/Users/jooye/OneDrive - dongguk.edu/data campus/project/Crawling/data/' +keyword+'/'+ str(k)+\".jpg\")\n",
    "        #print(str(k+1)+'/'+str(len(links))+' '+keyword+' 다운로드 중....... Download time : '+str(time.time() - start)[:5]+' 초')\n",
    "    print(keyword+' ---다운로드 완료---')\n",
    "    \n",
    "    driver.close()\n",
    "\n"
   ]
  },
  {
   "cell_type": "code",
   "execution_count": 16,
   "id": "0ec8ba1b",
   "metadata": {},
   "outputs": [
    {
     "name": "stdout",
     "output_type": "stream",
     "text": [
      "원하는 검색어: book\n",
      "내리는 간격:800\n"
     ]
    },
    {
     "name": "stderr",
     "output_type": "stream",
     "text": [
      "C:\\Users\\jooye\\AppData\\Local\\Temp\\ipykernel_14824\\1373545330.py:40: DeprecationWarning: executable_path has been deprecated, please pass in a Service object\n",
      "  driver = webdriver.Chrome(ChromeDriverManager().install())\n"
     ]
    },
    {
     "name": "stdout",
     "output_type": "stream",
     "text": [
      "start_ =  0\n",
      "now/end= 0 / 916\n",
      "book 저장 성공\n"
     ]
    }
   ],
   "source": [
    "if __name__ == '__main__':\n",
    "    crawl_images(input('원하는 검색어: '))"
   ]
  }
 ],
 "metadata": {
  "kernelspec": {
   "display_name": "Python 3 (ipykernel)",
   "language": "python",
   "name": "python3"
  },
  "language_info": {
   "codemirror_mode": {
    "name": "ipython",
    "version": 3
   },
   "file_extension": ".py",
   "mimetype": "text/x-python",
   "name": "python",
   "nbconvert_exporter": "python",
   "pygments_lexer": "ipython3",
   "version": "3.8.8"
  }
 },
 "nbformat": 4,
 "nbformat_minor": 5
}
